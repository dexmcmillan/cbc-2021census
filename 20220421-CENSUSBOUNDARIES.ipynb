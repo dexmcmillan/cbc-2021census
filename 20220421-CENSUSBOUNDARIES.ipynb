{
 "cells": [
  {
   "cell_type": "markdown",
   "metadata": {},
   "source": [
    "# StatsCan shapefile processing\n",
    "*April 22, 2022*"
   ]
  },
  {
   "cell_type": "markdown",
   "metadata": {},
   "source": [
    "This notebook takes statscan census shapefiles and processes them into various useful maps for import into Datawrapper. First, we import geopandas, pandas, and a third module to suppress some annoying warning messages."
   ]
  },
  {
   "cell_type": "code",
   "execution_count": 245,
   "metadata": {},
   "outputs": [],
   "source": [
    "import geopandas\n",
    "import pandas as pd\n",
    "import warnings;   warnings.filterwarnings(\"ignore\")"
   ]
  },
  {
   "cell_type": "markdown",
   "metadata": {},
   "source": [
    "Now we read in the latest StatsCan census boundary files, and convert the coordinate system to EPSG:4326, which is what Datawrapper likes."
   ]
  },
  {
   "cell_type": "code",
   "execution_count": null,
   "metadata": {},
   "outputs": [],
   "source": [
    "tracts = (geopandas\n",
    "          .read_file(\"https://www12.statcan.gc.ca/census-recensement/2021/geo/sip-pis/boundary-limites/files-fichiers/lct_000b21a_e.zip\")\n",
    "          .to_crs(\"EPSG:4326\")\n",
    "          )"
   ]
  },
  {
   "cell_type": "markdown",
   "metadata": {},
   "source": [
    "Next, we read in a table that contains pre-prepared info: a list of provinces that match to PRUIDs, and a list of CMAs that matches names of CMAs and CAs to DGUIDs."
   ]
  },
  {
   "cell_type": "code",
   "execution_count": 231,
   "metadata": {},
   "outputs": [],
   "source": [
    "province_list = pd.read_csv(\"./data/provinces.csv\").astype(str).set_index(\"PRUID\")\n",
    "cma_list = pd.read_csv(\"./data/cmas.csv\").astype(str).set_index(\"ID\")"
   ]
  },
  {
   "cell_type": "markdown",
   "metadata": {},
   "source": [
    "Let's take a peek at the tracts table."
   ]
  },
  {
   "cell_type": "code",
   "execution_count": 233,
   "metadata": {},
   "outputs": [
    {
     "data": {
      "text/html": [
       "<div>\n",
       "<style scoped>\n",
       "    .dataframe tbody tr th:only-of-type {\n",
       "        vertical-align: middle;\n",
       "    }\n",
       "\n",
       "    .dataframe tbody tr th {\n",
       "        vertical-align: top;\n",
       "    }\n",
       "\n",
       "    .dataframe thead th {\n",
       "        text-align: right;\n",
       "    }\n",
       "</style>\n",
       "<table border=\"1\" class=\"dataframe\">\n",
       "  <thead>\n",
       "    <tr style=\"text-align: right;\">\n",
       "      <th></th>\n",
       "      <th>CTUID</th>\n",
       "      <th>DGUID</th>\n",
       "      <th>CTNAME</th>\n",
       "      <th>LANDAREA</th>\n",
       "      <th>PRUID</th>\n",
       "      <th>geometry</th>\n",
       "    </tr>\n",
       "  </thead>\n",
       "  <tbody>\n",
       "    <tr>\n",
       "      <th>0</th>\n",
       "      <td>5370001.08</td>\n",
       "      <td>2021S05075370001.08</td>\n",
       "      <td>0001.08</td>\n",
       "      <td>1.6383</td>\n",
       "      <td>35</td>\n",
       "      <td>POLYGON ((-79.85362 43.19320, -79.85380 43.192...</td>\n",
       "    </tr>\n",
       "    <tr>\n",
       "      <th>1</th>\n",
       "      <td>0010002.00</td>\n",
       "      <td>2021S05070010002.00</td>\n",
       "      <td>0002.00</td>\n",
       "      <td>1.9638</td>\n",
       "      <td>10</td>\n",
       "      <td>POLYGON ((-52.72050 47.55154, -52.71877 47.550...</td>\n",
       "    </tr>\n",
       "    <tr>\n",
       "      <th>2</th>\n",
       "      <td>5370001.09</td>\n",
       "      <td>2021S05075370001.09</td>\n",
       "      <td>0001.09</td>\n",
       "      <td>1.9699</td>\n",
       "      <td>35</td>\n",
       "      <td>POLYGON ((-79.85586 43.18791, -79.85592 43.187...</td>\n",
       "    </tr>\n",
       "    <tr>\n",
       "      <th>3</th>\n",
       "      <td>5370120.02</td>\n",
       "      <td>2021S05075370120.02</td>\n",
       "      <td>0120.02</td>\n",
       "      <td>76.9650</td>\n",
       "      <td>35</td>\n",
       "      <td>POLYGON ((-79.94562 43.16920, -79.94638 43.167...</td>\n",
       "    </tr>\n",
       "    <tr>\n",
       "      <th>4</th>\n",
       "      <td>0010006.00</td>\n",
       "      <td>2021S05070010006.00</td>\n",
       "      <td>0006.00</td>\n",
       "      <td>1.0467</td>\n",
       "      <td>10</td>\n",
       "      <td>POLYGON ((-52.71107 47.56251, -52.71143 47.562...</td>\n",
       "    </tr>\n",
       "  </tbody>\n",
       "</table>\n",
       "</div>"
      ],
      "text/plain": [
       "        CTUID                DGUID   CTNAME  LANDAREA PRUID  \\\n",
       "0  5370001.08  2021S05075370001.08  0001.08    1.6383    35   \n",
       "1  0010002.00  2021S05070010002.00  0002.00    1.9638    10   \n",
       "2  5370001.09  2021S05075370001.09  0001.09    1.9699    35   \n",
       "3  5370120.02  2021S05075370120.02  0120.02   76.9650    35   \n",
       "4  0010006.00  2021S05070010006.00  0006.00    1.0467    10   \n",
       "\n",
       "                                            geometry  \n",
       "0  POLYGON ((-79.85362 43.19320, -79.85380 43.192...  \n",
       "1  POLYGON ((-52.72050 47.55154, -52.71877 47.550...  \n",
       "2  POLYGON ((-79.85586 43.18791, -79.85592 43.187...  \n",
       "3  POLYGON ((-79.94562 43.16920, -79.94638 43.167...  \n",
       "4  POLYGON ((-52.71107 47.56251, -52.71143 47.562...  "
      ]
     },
     "execution_count": 233,
     "metadata": {},
     "output_type": "execute_result"
    }
   ],
   "source": [
    "tracts.head()"
   ]
  },
  {
   "cell_type": "markdown",
   "metadata": {},
   "source": [
    "First, we want to simplify our polygons a bit. Datawrapper has an upload size limit of 2MB, so we use `.simplify()` to reduce the size to an acceptable level."
   ]
  },
  {
   "cell_type": "code",
   "execution_count": 105,
   "metadata": {},
   "outputs": [],
   "source": [
    "simple_tracts = tracts.copy()\n",
    "\n",
    "simple_tracts[\"geometry\"] = tracts[\"geometry\"].simplify(tolerance=0.0001)"
   ]
  },
  {
   "cell_type": "markdown",
   "metadata": {},
   "source": [
    "Now, we iterate through every CMA and CA in our list, and match that DGUID to the one in our shapefiles. Then, if there's data for that CMA, we output the file as a GeoJSON."
   ]
  },
  {
   "cell_type": "code",
   "execution_count": 232,
   "metadata": {},
   "outputs": [],
   "source": [
    "for id in cma_list.index.unique():\n",
    "    \n",
    "    name = cma_list.at[id, \"NAME\"].strip().lower().replace(\" \", \"\")\n",
    "    id_trim = id[-3:]\n",
    "    \n",
    "    data = (simple_tracts\n",
    "           .loc[simple_tracts[\"DGUID\"].str.contains(\"2021S0507\" + id_trim), :]\n",
    "          )\n",
    "    \n",
    "    if len(data) > 0:\n",
    "          data.to_file(f\"./data/cities/tracts-{name}.geojson\", driver='GeoJSON')\n",
    "    "
   ]
  },
  {
   "cell_type": "markdown",
   "metadata": {},
   "source": [
    "That's all. Now the repo should be populated with a list of useable GeoJSON files for Datawrapper maps based on the most recent data.\n",
    "\n",
    "\\-30\\-"
   ]
  }
 ],
 "metadata": {
  "interpreter": {
   "hash": "552de03e9edff146f1d92f84d103e3b3f227db66bf07c64b840556b57af7a877"
  },
  "kernelspec": {
   "display_name": "Python 3.10.2 ('myenv')",
   "language": "python",
   "name": "python3"
  },
  "language_info": {
   "codemirror_mode": {
    "name": "ipython",
    "version": 3
   },
   "file_extension": ".py",
   "mimetype": "text/x-python",
   "name": "python",
   "nbconvert_exporter": "python",
   "pygments_lexer": "ipython3",
   "version": "3.10.2"
  },
  "orig_nbformat": 4
 },
 "nbformat": 4,
 "nbformat_minor": 2
}
